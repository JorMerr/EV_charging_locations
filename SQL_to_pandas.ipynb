{
 "cells": [
  {
   "cell_type": "code",
   "execution_count": 37,
   "id": "a374772c",
   "metadata": {},
   "outputs": [],
   "source": [
    "# importing dependencies\n",
    "import pandas as pd\n",
    "import pypyodbc"
   ]
  },
  {
   "cell_type": "code",
   "execution_count": 38,
   "id": "7f62fc10",
   "metadata": {},
   "outputs": [],
   "source": [
    "# creating connection \n",
    "SERVER_NAME = 'LAPTOP-ATBQGGV6\\SQLEXPRESS'\n",
    "DATABASE_NAME = 'ev_locations_canada'\n",
    "conn = pypyodbc.connect('DRIVER={SQL Server Native Client 11.0};server=' + SERVER_NAME + ';DATABASE = ' + DATABASE_NAME + ';Trusted_Connection=yes;')"
   ]
  },
  {
   "cell_type": "code",
   "execution_count": 39,
   "id": "894a3e86",
   "metadata": {},
   "outputs": [],
   "source": [
    "#query\n",
    "sql_query = \"\"\"\n",
    "SELECT TOP 100* \n",
    "FROM final_table\n",
    "\"\"\""
   ]
  },
  {
   "cell_type": "code",
   "execution_count": null,
   "id": "6d91dac1",
   "metadata": {},
   "outputs": [],
   "source": [
    "df = pd.read_sql(sql_query, conn)"
   ]
  },
  {
   "cell_type": "code",
   "execution_count": null,
   "id": "3c3f0083",
   "metadata": {},
   "outputs": [],
   "source": []
  }
 ],
 "metadata": {
  "kernelspec": {
   "display_name": "pythonData",
   "language": "python",
   "name": "pythondata"
  },
  "language_info": {
   "codemirror_mode": {
    "name": "ipython",
    "version": 3
   },
   "file_extension": ".py",
   "mimetype": "text/x-python",
   "name": "python",
   "nbconvert_exporter": "python",
   "pygments_lexer": "ipython3",
   "version": "3.7.11"
  }
 },
 "nbformat": 4,
 "nbformat_minor": 5
}
