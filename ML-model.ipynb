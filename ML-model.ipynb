{
 "cells": [
  {
   "cell_type": "code",
   "execution_count": 1,
   "id": "a52e2caa",
   "metadata": {},
   "outputs": [],
   "source": [
    "# # Import dependencies\n",
    "# import pandas as pd\n",
    "# from pathlib import Path\n",
    "# from collections import Counter\n",
    "# from sklearn.model_selection import train_test_split\n",
    "# from sklearn.metrics import balanced_accuracy_score, confusion_matrix\n",
    "# from sklearn.linear_model import LinearRegression\n",
    "# from sklearn.preprocessing import StandardScaler\n"
   ]
  },
  {
   "cell_type": "code",
   "execution_count": 4,
   "id": "ff8c909f",
   "metadata": {},
   "outputs": [],
   "source": [
    "# # Create filepath to dataset\n",
    "# path = \"S3bucket\"\n",
    "# EV_stations_df = pd.read_csv('enter_path')"
   ]
  },
  {
   "cell_type": "code",
   "execution_count": 5,
   "id": "64319a6f",
   "metadata": {},
   "outputs": [],
   "source": [
    "# # Define the target variable\n",
    "# y = EV_stations_df[\"Y\"]\n",
    "# X = EV_stations_df.drop(columns=\"Y\")"
   ]
  },
  {
   "cell_type": "code",
   "execution_count": null,
   "id": "eeeb1609",
   "metadata": {},
   "outputs": [],
   "source": [
    "# # Split the data into training and testing sets\n",
    "# X_train, X_test, y_train, y_test = train_test_split(X, y,\n",
    "#                                                    random_state=1,\n",
    "#                                                    stratify=y)\n",
    "# X_train.shape"
   ]
  },
  {
   "cell_type": "code",
   "execution_count": 7,
   "id": "7e2d6ddb",
   "metadata": {},
   "outputs": [],
   "source": [
    "# # Define the model\n",
    "# model = LinearRegression()\n",
    "\n",
    "# # Fit the model\n",
    "# model.fit(X_train, y_train)\n",
    "\n",
    "# # Make predictions\n",
    "# y_pred = model.predict(X_test)\n",
    "# print(y_pred.shape)"
   ]
  },
  {
   "cell_type": "code",
   "execution_count": null,
   "id": "09d7a273",
   "metadata": {},
   "outputs": [],
   "source": [
    "# # print model accuracy\n",
    "# print(model.coef_)\n",
    "# print(model.intercept_)"
   ]
  }
 ],
 "metadata": {
  "kernelspec": {
   "display_name": "mlenv",
   "language": "python",
   "name": "mlenv"
  },
  "language_info": {
   "codemirror_mode": {
    "name": "ipython",
    "version": 3
   },
   "file_extension": ".py",
   "mimetype": "text/x-python",
   "name": "python",
   "nbconvert_exporter": "python",
   "pygments_lexer": "ipython3",
   "version": "3.7.13"
  }
 },
 "nbformat": 4,
 "nbformat_minor": 5
}
